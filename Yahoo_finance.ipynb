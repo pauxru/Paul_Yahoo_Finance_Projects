{
  "nbformat": 4,
  "nbformat_minor": 0,
  "metadata": {
    "colab": {
      "name": "Yahoo_finance.ipynb",
      "provenance": [],
      "collapsed_sections": [],
      "authorship_tag": "ABX9TyPcj8q36pK/tVAcTwqw5Jav",
      "include_colab_link": true
    },
    "kernelspec": {
      "name": "python3",
      "display_name": "Python 3"
    },
    "language_info": {
      "name": "python"
    }
  },
  "cells": [
    {
      "cell_type": "markdown",
      "metadata": {
        "id": "view-in-github",
        "colab_type": "text"
      },
      "source": [
        "<a href=\"https://colab.research.google.com/github/pauxru/Paul_Yahoo_Finance_Projects/blob/main/Yahoo_finance.ipynb\" target=\"_parent\"><img src=\"https://colab.research.google.com/assets/colab-badge.svg\" alt=\"Open In Colab\"/></a>"
      ]
    },
    {
      "cell_type": "markdown",
      "metadata": {
        "id": "40yNzhOar0YO"
      },
      "source": [
        "**Yahoo Finance data using Python yfinance library**\n",
        "\n",
        "Ever since Yahoo! finance decommissioned their historical data API, many programs that relied on it to stop working. That is where yfinance library comes in - to give access to the historical data, with the ability to visualize and analyze the data. This Notebook illustrates my ability to use the library and get crucial information from yahoo finance and then use it to manipulate and make sense of the data through various visualization capabilities of the library."
      ]
    },
    {
      "cell_type": "markdown",
      "metadata": {
        "id": "M0Ug2psLdm33"
      },
      "source": [
        "# First we need to install the library as it does not comre preinstalled into python"
      ]
    },
    {
      "cell_type": "code",
      "metadata": {
        "colab": {
          "base_uri": "https://localhost:8080/"
        },
        "id": "VNpCadTlt8r9",
        "outputId": "e72a605e-d016-4a91-9269-3d04570db32c"
      },
      "source": [
        "pip install yfinance"
      ],
      "execution_count": 16,
      "outputs": [
        {
          "output_type": "stream",
          "name": "stdout",
          "text": [
            "Requirement already satisfied: yfinance in /usr/local/lib/python3.7/dist-packages (0.1.63)\n",
            "Requirement already satisfied: pandas>=0.24 in /usr/local/lib/python3.7/dist-packages (from yfinance) (1.1.5)\n",
            "Requirement already satisfied: requests>=2.20 in /usr/local/lib/python3.7/dist-packages (from yfinance) (2.23.0)\n",
            "Requirement already satisfied: lxml>=4.5.1 in /usr/local/lib/python3.7/dist-packages (from yfinance) (4.6.3)\n",
            "Requirement already satisfied: multitasking>=0.0.7 in /usr/local/lib/python3.7/dist-packages (from yfinance) (0.0.9)\n",
            "Requirement already satisfied: numpy>=1.15 in /usr/local/lib/python3.7/dist-packages (from yfinance) (1.19.5)\n",
            "Requirement already satisfied: python-dateutil>=2.7.3 in /usr/local/lib/python3.7/dist-packages (from pandas>=0.24->yfinance) (2.8.2)\n",
            "Requirement already satisfied: pytz>=2017.2 in /usr/local/lib/python3.7/dist-packages (from pandas>=0.24->yfinance) (2018.9)\n",
            "Requirement already satisfied: six>=1.5 in /usr/local/lib/python3.7/dist-packages (from python-dateutil>=2.7.3->pandas>=0.24->yfinance) (1.15.0)\n",
            "Requirement already satisfied: chardet<4,>=3.0.2 in /usr/local/lib/python3.7/dist-packages (from requests>=2.20->yfinance) (3.0.4)\n",
            "Requirement already satisfied: certifi>=2017.4.17 in /usr/local/lib/python3.7/dist-packages (from requests>=2.20->yfinance) (2021.5.30)\n",
            "Requirement already satisfied: urllib3!=1.25.0,!=1.25.1,<1.26,>=1.21.1 in /usr/local/lib/python3.7/dist-packages (from requests>=2.20->yfinance) (1.24.3)\n",
            "Requirement already satisfied: idna<3,>=2.5 in /usr/local/lib/python3.7/dist-packages (from requests>=2.20->yfinance) (2.10)\n"
          ]
        }
      ]
    },
    {
      "cell_type": "markdown",
      "metadata": {
        "id": "hc8V23u4uOct"
      },
      "source": [
        "For this demosntration we shall need padas as a dependency, to help us in native data analysis using python"
      ]
    },
    {
      "cell_type": "code",
      "metadata": {
        "id": "sNCIKaSbnANY"
      },
      "source": [
        "# Import the library into our notebook for use using aliases\n",
        "import yfinance as yf\n",
        "#import pandas as pd"
      ],
      "execution_count": 99,
      "outputs": []
    },
    {
      "cell_type": "markdown",
      "metadata": {
        "id": "KANSCUIzi5NZ"
      },
      "source": [
        ""
      ]
    },
    {
      "cell_type": "markdown",
      "metadata": {
        "id": "o75C_Kj0uqmx"
      },
      "source": [
        "Introducing the Ticker module, which allows you to access ticker data in a more Pythonic way. A ticker is the abbreviations that are used in a stock market to identify a company in lieu of the entire company name e.g. \"AAPL\"  for \"Apple Inc.\""
      ]
    },
    {
      "cell_type": "markdown",
      "metadata": {
        "id": "GHGhFdWBjCHY"
      },
      "source": [
        "# **Please Input the ticker code of the company you want to have a look at here.**\n",
        "You can see the tickers here (https://business.unl.edu/outreach/econ-ed/nebraska-council-on-economic-education/student-programs/stock-market-game/documents/Top%202000%20Valued%20Companies%20with%20Ticker%20Symbols.pdf)"
      ]
    },
    {
      "cell_type": "code",
      "metadata": {
        "id": "cVCLXJQjfBiA"
      },
      "source": [
        "company_code= \"NOK\" "
      ],
      "execution_count": 100,
      "outputs": []
    },
    {
      "cell_type": "code",
      "metadata": {
        "id": "0eHngl3VnI50",
        "colab": {
          "base_uri": "https://localhost:8080/"
        },
        "outputId": "daffd910-e705-4d76-8fb0-31e84045977c"
      },
      "source": [
        "# the variable apple is assigned to \"AAPL\" ticker by the ticker module\n",
        "company = yf.Ticker(company_code)\n",
        "print(company.info['longName'])"
      ],
      "execution_count": 101,
      "outputs": [
        {
          "output_type": "stream",
          "name": "stdout",
          "text": [
            "Nokia Corporation\n"
          ]
        }
      ]
    },
    {
      "cell_type": "code",
      "metadata": {
        "colab": {
          "base_uri": "https://localhost:8080/"
        },
        "id": "LS08-7c3nkS8",
        "outputId": "63916b2e-552d-47d9-fe38-3f08170c986e"
      },
      "source": [
        "# The data is provided by the yfinance as a python dictionary type as shown\n",
        "company_info=company.info\n",
        "type(company_info)"
      ],
      "execution_count": 102,
      "outputs": [
        {
          "output_type": "execute_result",
          "data": {
            "text/plain": [
              "dict"
            ]
          },
          "metadata": {},
          "execution_count": 102
        }
      ]
    },
    {
      "cell_type": "code",
      "metadata": {
        "colab": {
          "base_uri": "https://localhost:8080/"
        },
        "id": "ewLWa-Cfnwnb",
        "outputId": "eb9c3bc9-1d40-46b6-ca73-c28b3db88a73"
      },
      "source": [
        "# The \"info\" attribute of the ticker module gives all the infromation \n",
        "# regarding the company requested. \n",
        "company_info\n",
        "\n",
        "# len(apple_info)"
      ],
      "execution_count": 103,
      "outputs": [
        {
          "output_type": "execute_result",
          "data": {
            "text/plain": [
              "{'52WeekChange': 0.4114833,\n",
              " 'SandP52WeekChange': 0.3047781,\n",
              " 'address1': 'Karakaari 7',\n",
              " 'algorithm': None,\n",
              " 'annualHoldingsTurnover': None,\n",
              " 'annualReportExpenseRatio': None,\n",
              " 'ask': 5.93,\n",
              " 'askSize': 38500,\n",
              " 'averageDailyVolume10Day': 13732800,\n",
              " 'averageVolume': 20745025,\n",
              " 'averageVolume10days': 13732800,\n",
              " 'beta': 0.589758,\n",
              " 'beta3Year': None,\n",
              " 'bid': 5.92,\n",
              " 'bidSize': 45900,\n",
              " 'bookValue': 2.531,\n",
              " 'category': None,\n",
              " 'circulatingSupply': None,\n",
              " 'city': 'Espoo',\n",
              " 'companyOfficers': [],\n",
              " 'country': 'Finland',\n",
              " 'currency': 'USD',\n",
              " 'currentPrice': 5.945,\n",
              " 'currentRatio': 1.579,\n",
              " 'dateShortInterest': 1632960000,\n",
              " 'dayHigh': 5.95,\n",
              " 'dayLow': 5.915,\n",
              " 'debtToEquity': 42.498,\n",
              " 'dividendRate': None,\n",
              " 'dividendYield': None,\n",
              " 'earningsGrowth': 3.819,\n",
              " 'earningsQuarterlyGrowth': 2.66,\n",
              " 'ebitda': 3257999872,\n",
              " 'ebitdaMargins': 0.14652,\n",
              " 'enterpriseToEbitda': 9.35,\n",
              " 'enterpriseToRevenue': 1.37,\n",
              " 'enterpriseValue': 30461347840,\n",
              " 'exDividendDate': 1564358400,\n",
              " 'exchange': 'NYQ',\n",
              " 'exchangeTimezoneName': 'America/New_York',\n",
              " 'exchangeTimezoneShortName': 'EDT',\n",
              " 'expireDate': None,\n",
              " 'fax': '358 1044 81002',\n",
              " 'fiftyDayAverage': 5.7179413,\n",
              " 'fiftyTwoWeekHigh': 9.79,\n",
              " 'fiftyTwoWeekLow': 3.21,\n",
              " 'financialCurrency': 'EUR',\n",
              " 'fiveYearAverageReturn': None,\n",
              " 'fiveYearAvgDividendYield': None,\n",
              " 'floatShares': 4643113326,\n",
              " 'forwardEps': 0.39,\n",
              " 'forwardPE': 15.24359,\n",
              " 'freeCashflow': 2659875072,\n",
              " 'fromCurrency': None,\n",
              " 'fullTimeEmployees': 92039,\n",
              " 'fundFamily': None,\n",
              " 'fundInceptionDate': None,\n",
              " 'gmtOffSetMilliseconds': '-14400000',\n",
              " 'grossMargins': 0.40344003,\n",
              " 'grossProfits': 8586000000,\n",
              " 'heldPercentInsiders': 0,\n",
              " 'heldPercentInstitutions': 0.08322,\n",
              " 'impliedSharesOutstanding': None,\n",
              " 'industry': 'Communication Equipment',\n",
              " 'isEsgPopulated': False,\n",
              " 'lastCapGain': None,\n",
              " 'lastDividendDate': 1564358400,\n",
              " 'lastDividendValue': 0.056,\n",
              " 'lastFiscalYearEnd': 1609372800,\n",
              " 'lastMarket': None,\n",
              " 'lastSplitDate': 955411200,\n",
              " 'lastSplitFactor': '4:1',\n",
              " 'legalType': None,\n",
              " 'logo_url': 'https://logo.clearbit.com/nokia.com',\n",
              " 'longBusinessSummary': 'Nokia Corporation provides mobile and fixed network solutions worldwide. The company operates through four segments: Mobile Networks, Network Infrastructure, Cloud and Network Services, and Nokia Technologies. It focuses on mobile radio including macro radio, small cells, and cloud native radio solutions for communications service providers and enterprises; and provides network planning and optimization, network implementation, and systems integration, as well as company-wide managed services. The company also offers fixed networking solutions, such as copper and fiber access products, solutions, and services. In addition, it provides network infrastructure and professional services for mobile networks; and managed services for the fixed, mobile, Internet protocol (IP), and optical domains. Further, the company offers network planning, implementation, operation, and maintenance services. Additionally, it provides IP/optical networking solutions, including IP routing and optical transport systems, software, and services; software solutions, such as customer experience management, network operations and management, communications and collaborations, and policy and charging, as well as cloud, IoT, security, and analytics platforms; and submarine networks and radiofrequency systems. Nokia Corporation was founded in 1865 and is headquartered in Espoo, Finland.',\n",
              " 'longName': 'Nokia Corporation',\n",
              " 'market': 'us_market',\n",
              " 'marketCap': 33988696064,\n",
              " 'maxAge': 1,\n",
              " 'maxSupply': None,\n",
              " 'messageBoardId': 'finmb_205573',\n",
              " 'morningStarOverallRating': None,\n",
              " 'morningStarRiskRating': None,\n",
              " 'mostRecentQuarter': 1625011200,\n",
              " 'navPrice': None,\n",
              " 'netIncomeToCommon': -1884000000,\n",
              " 'nextFiscalYearEnd': 1672444800,\n",
              " 'numberOfAnalystOpinions': 7,\n",
              " 'open': 5.93,\n",
              " 'openInterest': None,\n",
              " 'operatingCashflow': 2702000128,\n",
              " 'operatingMargins': 0.10699,\n",
              " 'payoutRatio': 0,\n",
              " 'pegRatio': 0.92,\n",
              " 'phone': '358 1044 88000',\n",
              " 'previousClose': 5.9,\n",
              " 'priceHint': 2,\n",
              " 'priceToBook': 2.348874,\n",
              " 'priceToSalesTrailing12Months': 1.5285436,\n",
              " 'profitMargins': -0.08522,\n",
              " 'quickRatio': 1.295,\n",
              " 'quoteType': 'EQUITY',\n",
              " 'recommendationKey': 'buy',\n",
              " 'recommendationMean': 2.4,\n",
              " 'regularMarketDayHigh': 5.95,\n",
              " 'regularMarketDayLow': 5.915,\n",
              " 'regularMarketOpen': 5.93,\n",
              " 'regularMarketPreviousClose': 5.9,\n",
              " 'regularMarketPrice': 5.945,\n",
              " 'regularMarketVolume': 2833162,\n",
              " 'returnOnAssets': 0.03901,\n",
              " 'returnOnEquity': -0.12638,\n",
              " 'revenueGrowth': 0.043,\n",
              " 'revenuePerShare': 3.956,\n",
              " 'revenueQuarterlyGrowth': None,\n",
              " 'sector': 'Technology',\n",
              " 'sharesOutstanding': 5629329920,\n",
              " 'sharesPercentSharesOut': 0.0056,\n",
              " 'sharesShort': 31442774,\n",
              " 'sharesShortPreviousMonthDate': 1630368000,\n",
              " 'sharesShortPriorMonth': 35224476,\n",
              " 'shortName': 'Nokia Corporation Sponsored',\n",
              " 'shortPercentOfFloat': None,\n",
              " 'shortRatio': 1.65,\n",
              " 'startDate': None,\n",
              " 'strikePrice': None,\n",
              " 'symbol': 'NOK',\n",
              " 'targetHighPrice': 8.1,\n",
              " 'targetLowPrice': 6.01,\n",
              " 'targetMeanPrice': 7.14,\n",
              " 'targetMedianPrice': 7,\n",
              " 'threeYearAverageReturn': None,\n",
              " 'toCurrency': None,\n",
              " 'totalAssets': None,\n",
              " 'totalCash': 8933999616,\n",
              " 'totalCashPerShare': 1.587,\n",
              " 'totalDebt': 6093000192,\n",
              " 'totalRevenue': 22236000256,\n",
              " 'tradeable': False,\n",
              " 'trailingAnnualDividendRate': 0.221,\n",
              " 'trailingAnnualDividendYield': 0.037457626,\n",
              " 'trailingEps': -0.391,\n",
              " 'twoHundredDayAverage': 5.3527536,\n",
              " 'volume': 2833162,\n",
              " 'volume24Hr': None,\n",
              " 'volumeAllCurrencies': None,\n",
              " 'website': 'http://www.nokia.com',\n",
              " 'yield': None,\n",
              " 'ytdReturn': None,\n",
              " 'zip': '02610'}"
            ]
          },
          "metadata": {},
          "execution_count": 103
        }
      ]
    },
    {
      "cell_type": "markdown",
      "metadata": {
        "id": "ZlPqYxp6yg9P"
      },
      "source": [
        "More information that you can get using the library are like the following\n",
        "\n",
        "---\n",
        "\n"
      ]
    },
    {
      "cell_type": "code",
      "metadata": {
        "colab": {
          "base_uri": "https://localhost:8080/",
          "height": 204
        },
        "id": "9HPzUk0typVt",
        "outputId": "f3e3048d-840c-441f-ad3f-e6344e83082f"
      },
      "source": [
        "# get company earning in the last 4 years\n",
        "company.earnings"
      ],
      "execution_count": 109,
      "outputs": [
        {
          "output_type": "execute_result",
          "data": {
            "text/html": [
              "<div>\n",
              "<style scoped>\n",
              "    .dataframe tbody tr th:only-of-type {\n",
              "        vertical-align: middle;\n",
              "    }\n",
              "\n",
              "    .dataframe tbody tr th {\n",
              "        vertical-align: top;\n",
              "    }\n",
              "\n",
              "    .dataframe thead th {\n",
              "        text-align: right;\n",
              "    }\n",
              "</style>\n",
              "<table border=\"1\" class=\"dataframe\">\n",
              "  <thead>\n",
              "    <tr style=\"text-align: right;\">\n",
              "      <th></th>\n",
              "      <th>Revenue</th>\n",
              "      <th>Earnings</th>\n",
              "    </tr>\n",
              "    <tr>\n",
              "      <th>Year</th>\n",
              "      <th></th>\n",
              "      <th></th>\n",
              "    </tr>\n",
              "  </thead>\n",
              "  <tbody>\n",
              "    <tr>\n",
              "      <th>2017</th>\n",
              "      <td>23147000000</td>\n",
              "      <td>-1494000000</td>\n",
              "    </tr>\n",
              "    <tr>\n",
              "      <th>2018</th>\n",
              "      <td>22563000000</td>\n",
              "      <td>-340000000</td>\n",
              "    </tr>\n",
              "    <tr>\n",
              "      <th>2019</th>\n",
              "      <td>23315000000</td>\n",
              "      <td>7000000</td>\n",
              "    </tr>\n",
              "    <tr>\n",
              "      <th>2020</th>\n",
              "      <td>21852000000</td>\n",
              "      <td>-2523000000</td>\n",
              "    </tr>\n",
              "  </tbody>\n",
              "</table>\n",
              "</div>"
            ],
            "text/plain": [
              "          Revenue    Earnings\n",
              "Year                         \n",
              "2017  23147000000 -1494000000\n",
              "2018  22563000000  -340000000\n",
              "2019  23315000000     7000000\n",
              "2020  21852000000 -2523000000"
            ]
          },
          "metadata": {},
          "execution_count": 109
        }
      ]
    },
    {
      "cell_type": "code",
      "metadata": {
        "colab": {
          "base_uri": "https://localhost:8080/",
          "height": 731
        },
        "id": "y8_YJPFMzyKf",
        "outputId": "294422bd-e2e3-4531-eeb2-22ada612cdfa"
      },
      "source": [
        "# How the company spends its money\n",
        "company.quarterly_financials"
      ],
      "execution_count": 112,
      "outputs": [
        {
          "output_type": "execute_result",
          "data": {
            "text/html": [
              "<div>\n",
              "<style scoped>\n",
              "    .dataframe tbody tr th:only-of-type {\n",
              "        vertical-align: middle;\n",
              "    }\n",
              "\n",
              "    .dataframe tbody tr th {\n",
              "        vertical-align: top;\n",
              "    }\n",
              "\n",
              "    .dataframe thead th {\n",
              "        text-align: right;\n",
              "    }\n",
              "</style>\n",
              "<table border=\"1\" class=\"dataframe\">\n",
              "  <thead>\n",
              "    <tr style=\"text-align: right;\">\n",
              "      <th></th>\n",
              "      <th>2021-06-30</th>\n",
              "      <th>2021-03-31</th>\n",
              "      <th>2020-12-31</th>\n",
              "      <th>2020-09-30</th>\n",
              "    </tr>\n",
              "  </thead>\n",
              "  <tbody>\n",
              "    <tr>\n",
              "      <th>Research Development</th>\n",
              "      <td>1.023e+09</td>\n",
              "      <td>9.86e+08</td>\n",
              "      <td>1.046e+09</td>\n",
              "      <td>8.95e+08</td>\n",
              "    </tr>\n",
              "    <tr>\n",
              "      <th>Effect Of Accounting Charges</th>\n",
              "      <td>None</td>\n",
              "      <td>None</td>\n",
              "      <td>None</td>\n",
              "      <td>None</td>\n",
              "    </tr>\n",
              "    <tr>\n",
              "      <th>Income Before Tax</th>\n",
              "      <td>4.16e+08</td>\n",
              "      <td>3.72e+08</td>\n",
              "      <td>4.31e+08</td>\n",
              "      <td>2.77e+08</td>\n",
              "    </tr>\n",
              "    <tr>\n",
              "      <th>Minority Interest</th>\n",
              "      <td>8.9e+07</td>\n",
              "      <td>8.5e+07</td>\n",
              "      <td>8e+07</td>\n",
              "      <td>8.3e+07</td>\n",
              "    </tr>\n",
              "    <tr>\n",
              "      <th>Net Income</th>\n",
              "      <td>3.44e+08</td>\n",
              "      <td>2.61e+08</td>\n",
              "      <td>-2.693e+09</td>\n",
              "      <td>1.93e+08</td>\n",
              "    </tr>\n",
              "    <tr>\n",
              "      <th>Selling General Administrative</th>\n",
              "      <td>6.7e+08</td>\n",
              "      <td>6.35e+08</td>\n",
              "      <td>7.37e+08</td>\n",
              "      <td>6.43e+08</td>\n",
              "    </tr>\n",
              "    <tr>\n",
              "      <th>Gross Profit</th>\n",
              "      <td>2.169e+09</td>\n",
              "      <td>1.939e+09</td>\n",
              "      <td>2.802e+09</td>\n",
              "      <td>1.981e+09</td>\n",
              "    </tr>\n",
              "    <tr>\n",
              "      <th>Ebit</th>\n",
              "      <td>4.9e+08</td>\n",
              "      <td>4.54e+08</td>\n",
              "      <td>9.07e+08</td>\n",
              "      <td>3.86e+08</td>\n",
              "    </tr>\n",
              "    <tr>\n",
              "      <th>Operating Income</th>\n",
              "      <td>4.9e+08</td>\n",
              "      <td>4.54e+08</td>\n",
              "      <td>9.07e+08</td>\n",
              "      <td>3.86e+08</td>\n",
              "    </tr>\n",
              "    <tr>\n",
              "      <th>Other Operating Expenses</th>\n",
              "      <td>-1.4e+07</td>\n",
              "      <td>-1.36e+08</td>\n",
              "      <td>1.12e+08</td>\n",
              "      <td>5.7e+07</td>\n",
              "    </tr>\n",
              "    <tr>\n",
              "      <th>Interest Expense</th>\n",
              "      <td>-4e+07</td>\n",
              "      <td>-9.1e+07</td>\n",
              "      <td>-6.4e+07</td>\n",
              "      <td>-7.8e+07</td>\n",
              "    </tr>\n",
              "    <tr>\n",
              "      <th>Extraordinary Items</th>\n",
              "      <td>None</td>\n",
              "      <td>None</td>\n",
              "      <td>None</td>\n",
              "      <td>None</td>\n",
              "    </tr>\n",
              "    <tr>\n",
              "      <th>Non Recurring</th>\n",
              "      <td>None</td>\n",
              "      <td>None</td>\n",
              "      <td>None</td>\n",
              "      <td>None</td>\n",
              "    </tr>\n",
              "    <tr>\n",
              "      <th>Other Items</th>\n",
              "      <td>None</td>\n",
              "      <td>None</td>\n",
              "      <td>None</td>\n",
              "      <td>None</td>\n",
              "    </tr>\n",
              "    <tr>\n",
              "      <th>Income Tax Expense</th>\n",
              "      <td>6.6e+07</td>\n",
              "      <td>9.9e+07</td>\n",
              "      <td>3.132e+09</td>\n",
              "      <td>7.4e+07</td>\n",
              "    </tr>\n",
              "    <tr>\n",
              "      <th>Total Revenue</th>\n",
              "      <td>5.313e+09</td>\n",
              "      <td>5.076e+09</td>\n",
              "      <td>6.553e+09</td>\n",
              "      <td>5.294e+09</td>\n",
              "    </tr>\n",
              "    <tr>\n",
              "      <th>Total Operating Expenses</th>\n",
              "      <td>4.823e+09</td>\n",
              "      <td>4.622e+09</td>\n",
              "      <td>5.646e+09</td>\n",
              "      <td>4.908e+09</td>\n",
              "    </tr>\n",
              "    <tr>\n",
              "      <th>Cost Of Revenue</th>\n",
              "      <td>3.144e+09</td>\n",
              "      <td>3.137e+09</td>\n",
              "      <td>3.751e+09</td>\n",
              "      <td>3.313e+09</td>\n",
              "    </tr>\n",
              "    <tr>\n",
              "      <th>Total Other Income Expense Net</th>\n",
              "      <td>-7.4e+07</td>\n",
              "      <td>-8.2e+07</td>\n",
              "      <td>-4.76e+08</td>\n",
              "      <td>-1.09e+08</td>\n",
              "    </tr>\n",
              "    <tr>\n",
              "      <th>Discontinued Operations</th>\n",
              "      <td>1e+06</td>\n",
              "      <td>-9e+06</td>\n",
              "      <td>4e+06</td>\n",
              "      <td>-6e+06</td>\n",
              "    </tr>\n",
              "    <tr>\n",
              "      <th>Net Income From Continuing Ops</th>\n",
              "      <td>3.5e+08</td>\n",
              "      <td>2.73e+08</td>\n",
              "      <td>-2.701e+09</td>\n",
              "      <td>2.03e+08</td>\n",
              "    </tr>\n",
              "    <tr>\n",
              "      <th>Net Income Applicable To Common Shares</th>\n",
              "      <td>3.44e+08</td>\n",
              "      <td>2.61e+08</td>\n",
              "      <td>-2.693e+09</td>\n",
              "      <td>1.93e+08</td>\n",
              "    </tr>\n",
              "  </tbody>\n",
              "</table>\n",
              "</div>"
            ],
            "text/plain": [
              "                                       2021-06-30  ... 2020-09-30\n",
              "Research Development                    1.023e+09  ...   8.95e+08\n",
              "Effect Of Accounting Charges                 None  ...       None\n",
              "Income Before Tax                        4.16e+08  ...   2.77e+08\n",
              "Minority Interest                         8.9e+07  ...    8.3e+07\n",
              "Net Income                               3.44e+08  ...   1.93e+08\n",
              "Selling General Administrative            6.7e+08  ...   6.43e+08\n",
              "Gross Profit                            2.169e+09  ...  1.981e+09\n",
              "Ebit                                      4.9e+08  ...   3.86e+08\n",
              "Operating Income                          4.9e+08  ...   3.86e+08\n",
              "Other Operating Expenses                 -1.4e+07  ...    5.7e+07\n",
              "Interest Expense                           -4e+07  ...   -7.8e+07\n",
              "Extraordinary Items                          None  ...       None\n",
              "Non Recurring                                None  ...       None\n",
              "Other Items                                  None  ...       None\n",
              "Income Tax Expense                        6.6e+07  ...    7.4e+07\n",
              "Total Revenue                           5.313e+09  ...  5.294e+09\n",
              "Total Operating Expenses                4.823e+09  ...  4.908e+09\n",
              "Cost Of Revenue                         3.144e+09  ...  3.313e+09\n",
              "Total Other Income Expense Net           -7.4e+07  ...  -1.09e+08\n",
              "Discontinued Operations                     1e+06  ...     -6e+06\n",
              "Net Income From Continuing Ops            3.5e+08  ...   2.03e+08\n",
              "Net Income Applicable To Common Shares   3.44e+08  ...   1.93e+08\n",
              "\n",
              "[22 rows x 4 columns]"
            ]
          },
          "metadata": {},
          "execution_count": 112
        }
      ]
    },
    {
      "cell_type": "code",
      "metadata": {
        "id": "zB7vBI4p0YhH"
      },
      "source": [
        "# Get the mutual fund holders of the company stocks\n",
        "company.mutualfund_holders"
      ],
      "execution_count": 117,
      "outputs": []
    },
    {
      "cell_type": "code",
      "metadata": {
        "id": "xzMczJeP0u1P"
      },
      "source": [
        "# Get the institutional holders of the company stocks\n",
        "company.institutional_holders"
      ],
      "execution_count": 118,
      "outputs": []
    },
    {
      "cell_type": "code",
      "metadata": {
        "id": "LKrLT8r404BH"
      },
      "source": [
        "# Sustainability of the company\n",
        "company.sustainability"
      ],
      "execution_count": 120,
      "outputs": []
    },
    {
      "cell_type": "code",
      "metadata": {
        "colab": {
          "base_uri": "https://localhost:8080/",
          "height": 450
        },
        "id": "Ar4GBZeA1NrI",
        "outputId": "4f039e1b-5b15-47a8-f0d5-74af72a99673"
      },
      "source": [
        "# recommendations of actions to take on stock by different firms\n",
        "company.recommendations"
      ],
      "execution_count": 121,
      "outputs": [
        {
          "output_type": "execute_result",
          "data": {
            "text/html": [
              "<div>\n",
              "<style scoped>\n",
              "    .dataframe tbody tr th:only-of-type {\n",
              "        vertical-align: middle;\n",
              "    }\n",
              "\n",
              "    .dataframe tbody tr th {\n",
              "        vertical-align: top;\n",
              "    }\n",
              "\n",
              "    .dataframe thead th {\n",
              "        text-align: right;\n",
              "    }\n",
              "</style>\n",
              "<table border=\"1\" class=\"dataframe\">\n",
              "  <thead>\n",
              "    <tr style=\"text-align: right;\">\n",
              "      <th></th>\n",
              "      <th>Firm</th>\n",
              "      <th>To Grade</th>\n",
              "      <th>From Grade</th>\n",
              "      <th>Action</th>\n",
              "    </tr>\n",
              "    <tr>\n",
              "      <th>Date</th>\n",
              "      <th></th>\n",
              "      <th></th>\n",
              "      <th></th>\n",
              "      <th></th>\n",
              "    </tr>\n",
              "  </thead>\n",
              "  <tbody>\n",
              "    <tr>\n",
              "      <th>2012-02-28 06:39:00</th>\n",
              "      <td>Oppenheimer</td>\n",
              "      <td>Perform</td>\n",
              "      <td></td>\n",
              "      <td>down</td>\n",
              "    </tr>\n",
              "    <tr>\n",
              "      <th>2012-04-12 07:10:00</th>\n",
              "      <td>Societe Generale</td>\n",
              "      <td>Hold</td>\n",
              "      <td></td>\n",
              "      <td>down</td>\n",
              "    </tr>\n",
              "    <tr>\n",
              "      <th>2012-04-13 06:46:00</th>\n",
              "      <td>Barclays</td>\n",
              "      <td>Equal-Weight</td>\n",
              "      <td></td>\n",
              "      <td>down</td>\n",
              "    </tr>\n",
              "    <tr>\n",
              "      <th>2012-04-13 08:51:00</th>\n",
              "      <td>Scotiabank</td>\n",
              "      <td>Sector Perform</td>\n",
              "      <td></td>\n",
              "      <td>main</td>\n",
              "    </tr>\n",
              "    <tr>\n",
              "      <th>2012-04-23 08:56:00</th>\n",
              "      <td>Scotiabank</td>\n",
              "      <td>Sector Perform</td>\n",
              "      <td></td>\n",
              "      <td>main</td>\n",
              "    </tr>\n",
              "    <tr>\n",
              "      <th>...</th>\n",
              "      <td>...</td>\n",
              "      <td>...</td>\n",
              "      <td>...</td>\n",
              "      <td>...</td>\n",
              "    </tr>\n",
              "    <tr>\n",
              "      <th>2020-09-08 11:21:09</th>\n",
              "      <td>Raymond James</td>\n",
              "      <td>Market Perform</td>\n",
              "      <td>Strong Buy</td>\n",
              "      <td>down</td>\n",
              "    </tr>\n",
              "    <tr>\n",
              "      <th>2021-05-07 13:43:05</th>\n",
              "      <td>Morgan Stanley</td>\n",
              "      <td>Overweight</td>\n",
              "      <td>Equal-Weight</td>\n",
              "      <td>up</td>\n",
              "    </tr>\n",
              "    <tr>\n",
              "      <th>2021-06-25 09:03:17</th>\n",
              "      <td>Goldman Sachs</td>\n",
              "      <td>Buy</td>\n",
              "      <td>Neutral</td>\n",
              "      <td>up</td>\n",
              "    </tr>\n",
              "    <tr>\n",
              "      <th>2021-07-14 08:34:58</th>\n",
              "      <td>JP Morgan</td>\n",
              "      <td>Overweight</td>\n",
              "      <td>Neutral</td>\n",
              "      <td>up</td>\n",
              "    </tr>\n",
              "    <tr>\n",
              "      <th>2021-07-30 15:38:26</th>\n",
              "      <td>Cowen &amp; Co.</td>\n",
              "      <td>Outperform</td>\n",
              "      <td>Market Perform</td>\n",
              "      <td>up</td>\n",
              "    </tr>\n",
              "  </tbody>\n",
              "</table>\n",
              "<p>139 rows × 4 columns</p>\n",
              "</div>"
            ],
            "text/plain": [
              "                                 Firm        To Grade      From Grade Action\n",
              "Date                                                                        \n",
              "2012-02-28 06:39:00       Oppenheimer         Perform                   down\n",
              "2012-04-12 07:10:00  Societe Generale            Hold                   down\n",
              "2012-04-13 06:46:00          Barclays    Equal-Weight                   down\n",
              "2012-04-13 08:51:00        Scotiabank  Sector Perform                   main\n",
              "2012-04-23 08:56:00        Scotiabank  Sector Perform                   main\n",
              "...                               ...             ...             ...    ...\n",
              "2020-09-08 11:21:09     Raymond James  Market Perform      Strong Buy   down\n",
              "2021-05-07 13:43:05    Morgan Stanley      Overweight    Equal-Weight     up\n",
              "2021-06-25 09:03:17     Goldman Sachs             Buy         Neutral     up\n",
              "2021-07-14 08:34:58         JP Morgan      Overweight         Neutral     up\n",
              "2021-07-30 15:38:26       Cowen & Co.      Outperform  Market Perform     up\n",
              "\n",
              "[139 rows x 4 columns]"
            ]
          },
          "metadata": {},
          "execution_count": 121
        }
      ]
    },
    {
      "cell_type": "code",
      "metadata": {
        "colab": {
          "base_uri": "https://localhost:8080/"
        },
        "id": "wbIcN01G1g3A",
        "outputId": "59839098-abb3-495c-f6f3-9514f3e2e786"
      },
      "source": [
        "# This gives you the counts of different options given by the firms\n",
        "# It tells you how many firms recommends buy, sell, hold, etc\n",
        "company.recommendations['To Grade'].value_counts()"
      ],
      "execution_count": 122,
      "outputs": [
        {
          "output_type": "execute_result",
          "data": {
            "text/plain": [
              "Buy               39\n",
              "Neutral           23\n",
              "Hold              17\n",
              "Underperform      11\n",
              "Outperform        11\n",
              "Market Perform    11\n",
              "Overweight         8\n",
              "Sell               6\n",
              "Sector Perform     2\n",
              "Reduce             2\n",
              "Strong Buy         2\n",
              "Underweight        2\n",
              "Perform            2\n",
              "Equal-weight       1\n",
              "Equal-Weight       1\n",
              "                   1\n",
              "Name: To Grade, dtype: int64"
            ]
          },
          "metadata": {},
          "execution_count": 122
        }
      ]
    },
    {
      "cell_type": "code",
      "metadata": {
        "id": "X8Mga8ou9m-b"
      },
      "source": [
        "# major world indices live from the yahoo finance website\n",
        "# This does not work anymore since yahoo finance changed their website configuration\n",
        "# They don't use table tags in to render their html but this method should work on other websites\n",
        "top_world_indices = pd.read_html(\"https://finance.yahoo.com/world-indices\")[0]"
      ],
      "execution_count": null,
      "outputs": []
    },
    {
      "cell_type": "code",
      "metadata": {
        "colab": {
          "base_uri": "https://localhost:8080/"
        },
        "id": "XoIYVimWn5Z7",
        "outputId": "6720886f-62c6-43ad-ab70-ea31af00e412"
      },
      "source": [
        "# accessing the details in the dictionary about the company\n",
        "company_info['country']\n",
        "company_info['forwardPE']\n"
      ],
      "execution_count": 104,
      "outputs": [
        {
          "output_type": "execute_result",
          "data": {
            "text/plain": [
              "15.24359"
            ]
          },
          "metadata": {},
          "execution_count": 104
        }
      ]
    },
    {
      "cell_type": "code",
      "metadata": {
        "colab": {
          "base_uri": "https://localhost:8080/",
          "height": 450
        },
        "id": "uyBofldFn_BE",
        "outputId": "f4bdc4c2-09c1-47d9-89a3-155a04795323"
      },
      "source": [
        "# accessing the historical data for a company\n",
        "company_share_price_data = company.history(period=\"max\")\n",
        "company_share_price_data"
      ],
      "execution_count": 105,
      "outputs": [
        {
          "output_type": "execute_result",
          "data": {
            "text/html": [
              "<div>\n",
              "<style scoped>\n",
              "    .dataframe tbody tr th:only-of-type {\n",
              "        vertical-align: middle;\n",
              "    }\n",
              "\n",
              "    .dataframe tbody tr th {\n",
              "        vertical-align: top;\n",
              "    }\n",
              "\n",
              "    .dataframe thead th {\n",
              "        text-align: right;\n",
              "    }\n",
              "</style>\n",
              "<table border=\"1\" class=\"dataframe\">\n",
              "  <thead>\n",
              "    <tr style=\"text-align: right;\">\n",
              "      <th></th>\n",
              "      <th>Open</th>\n",
              "      <th>High</th>\n",
              "      <th>Low</th>\n",
              "      <th>Close</th>\n",
              "      <th>Volume</th>\n",
              "      <th>Dividends</th>\n",
              "      <th>Stock Splits</th>\n",
              "    </tr>\n",
              "    <tr>\n",
              "      <th>Date</th>\n",
              "      <th></th>\n",
              "      <th></th>\n",
              "      <th></th>\n",
              "      <th></th>\n",
              "      <th></th>\n",
              "      <th></th>\n",
              "      <th></th>\n",
              "    </tr>\n",
              "  </thead>\n",
              "  <tbody>\n",
              "    <tr>\n",
              "      <th>1994-07-01</th>\n",
              "      <td>0.651400</td>\n",
              "      <td>0.665218</td>\n",
              "      <td>0.651400</td>\n",
              "      <td>0.665218</td>\n",
              "      <td>29958400</td>\n",
              "      <td>0.0</td>\n",
              "      <td>0.0</td>\n",
              "    </tr>\n",
              "    <tr>\n",
              "      <th>1994-07-05</th>\n",
              "      <td>0.686931</td>\n",
              "      <td>0.690879</td>\n",
              "      <td>0.681009</td>\n",
              "      <td>0.690879</td>\n",
              "      <td>10691200</td>\n",
              "      <td>0.0</td>\n",
              "      <td>0.0</td>\n",
              "    </tr>\n",
              "    <tr>\n",
              "      <th>1994-07-06</th>\n",
              "      <td>0.690879</td>\n",
              "      <td>0.714567</td>\n",
              "      <td>0.690879</td>\n",
              "      <td>0.714567</td>\n",
              "      <td>7408000</td>\n",
              "      <td>0.0</td>\n",
              "      <td>0.0</td>\n",
              "    </tr>\n",
              "    <tr>\n",
              "      <th>1994-07-07</th>\n",
              "      <td>0.712592</td>\n",
              "      <td>0.724436</td>\n",
              "      <td>0.710619</td>\n",
              "      <td>0.724436</td>\n",
              "      <td>9747200</td>\n",
              "      <td>0.0</td>\n",
              "      <td>0.0</td>\n",
              "    </tr>\n",
              "    <tr>\n",
              "      <th>1994-07-08</th>\n",
              "      <td>0.722462</td>\n",
              "      <td>0.730358</td>\n",
              "      <td>0.716540</td>\n",
              "      <td>0.728384</td>\n",
              "      <td>4467200</td>\n",
              "      <td>0.0</td>\n",
              "      <td>0.0</td>\n",
              "    </tr>\n",
              "    <tr>\n",
              "      <th>...</th>\n",
              "      <td>...</td>\n",
              "      <td>...</td>\n",
              "      <td>...</td>\n",
              "      <td>...</td>\n",
              "      <td>...</td>\n",
              "      <td>...</td>\n",
              "      <td>...</td>\n",
              "    </tr>\n",
              "    <tr>\n",
              "      <th>2021-10-12</th>\n",
              "      <td>5.830000</td>\n",
              "      <td>5.850000</td>\n",
              "      <td>5.780000</td>\n",
              "      <td>5.800000</td>\n",
              "      <td>17008300</td>\n",
              "      <td>0.0</td>\n",
              "      <td>0.0</td>\n",
              "    </tr>\n",
              "    <tr>\n",
              "      <th>2021-10-13</th>\n",
              "      <td>5.850000</td>\n",
              "      <td>5.890000</td>\n",
              "      <td>5.820000</td>\n",
              "      <td>5.840000</td>\n",
              "      <td>10745600</td>\n",
              "      <td>0.0</td>\n",
              "      <td>0.0</td>\n",
              "    </tr>\n",
              "    <tr>\n",
              "      <th>2021-10-14</th>\n",
              "      <td>5.930000</td>\n",
              "      <td>5.970000</td>\n",
              "      <td>5.910000</td>\n",
              "      <td>5.950000</td>\n",
              "      <td>13816600</td>\n",
              "      <td>0.0</td>\n",
              "      <td>0.0</td>\n",
              "    </tr>\n",
              "    <tr>\n",
              "      <th>2021-10-15</th>\n",
              "      <td>5.970000</td>\n",
              "      <td>5.980000</td>\n",
              "      <td>5.890000</td>\n",
              "      <td>5.900000</td>\n",
              "      <td>12331700</td>\n",
              "      <td>0.0</td>\n",
              "      <td>0.0</td>\n",
              "    </tr>\n",
              "    <tr>\n",
              "      <th>2021-10-18</th>\n",
              "      <td>5.930000</td>\n",
              "      <td>5.950000</td>\n",
              "      <td>5.915000</td>\n",
              "      <td>5.945000</td>\n",
              "      <td>2837198</td>\n",
              "      <td>0.0</td>\n",
              "      <td>0.0</td>\n",
              "    </tr>\n",
              "  </tbody>\n",
              "</table>\n",
              "<p>6874 rows × 7 columns</p>\n",
              "</div>"
            ],
            "text/plain": [
              "                Open      High       Low  ...    Volume  Dividends  Stock Splits\n",
              "Date                                      ...                                   \n",
              "1994-07-01  0.651400  0.665218  0.651400  ...  29958400        0.0           0.0\n",
              "1994-07-05  0.686931  0.690879  0.681009  ...  10691200        0.0           0.0\n",
              "1994-07-06  0.690879  0.714567  0.690879  ...   7408000        0.0           0.0\n",
              "1994-07-07  0.712592  0.724436  0.710619  ...   9747200        0.0           0.0\n",
              "1994-07-08  0.722462  0.730358  0.716540  ...   4467200        0.0           0.0\n",
              "...              ...       ...       ...  ...       ...        ...           ...\n",
              "2021-10-12  5.830000  5.850000  5.780000  ...  17008300        0.0           0.0\n",
              "2021-10-13  5.850000  5.890000  5.820000  ...  10745600        0.0           0.0\n",
              "2021-10-14  5.930000  5.970000  5.910000  ...  13816600        0.0           0.0\n",
              "2021-10-15  5.970000  5.980000  5.890000  ...  12331700        0.0           0.0\n",
              "2021-10-18  5.930000  5.950000  5.915000  ...   2837198        0.0           0.0\n",
              "\n",
              "[6874 rows x 7 columns]"
            ]
          },
          "metadata": {},
          "execution_count": 105
        }
      ]
    },
    {
      "cell_type": "code",
      "metadata": {
        "colab": {
          "base_uri": "https://localhost:8080/"
        },
        "id": "yMWd5h_Btf7d",
        "outputId": "f388cb2f-54ef-43e4-fa04-84ed27b521b1"
      },
      "source": [
        "# Convert to a dataframe\n",
        "df = pd.DataFrame.from_dict(company_share_price_data)\n",
        "print(type(df))\n",
        "df.shape"
      ],
      "execution_count": 107,
      "outputs": [
        {
          "output_type": "stream",
          "name": "stdout",
          "text": [
            "<class 'pandas.core.frame.DataFrame'>\n"
          ]
        },
        {
          "output_type": "execute_result",
          "data": {
            "text/plain": [
              "(6874, 8)"
            ]
          },
          "metadata": {},
          "execution_count": 107
        }
      ]
    },
    {
      "cell_type": "code",
      "metadata": {
        "colab": {
          "base_uri": "https://localhost:8080/",
          "height": 204
        },
        "id": "45DBI4YVoYWM",
        "outputId": "59568dae-1ae3-4353-b8c2-f2bb78b75ad1"
      },
      "source": [
        "# reset the index of the data and display the head\n",
        "# Pandas reset_index() is a method to reset index of a Data Frame. reset_index() \n",
        "# method sets a list of integer ranging from 0 to length of data as index.\n",
        "company_share_price_data.reset_index(inplace=True)\n",
        "company_share_price_data.head()"
      ],
      "execution_count": 106,
      "outputs": [
        {
          "output_type": "execute_result",
          "data": {
            "text/html": [
              "<div>\n",
              "<style scoped>\n",
              "    .dataframe tbody tr th:only-of-type {\n",
              "        vertical-align: middle;\n",
              "    }\n",
              "\n",
              "    .dataframe tbody tr th {\n",
              "        vertical-align: top;\n",
              "    }\n",
              "\n",
              "    .dataframe thead th {\n",
              "        text-align: right;\n",
              "    }\n",
              "</style>\n",
              "<table border=\"1\" class=\"dataframe\">\n",
              "  <thead>\n",
              "    <tr style=\"text-align: right;\">\n",
              "      <th></th>\n",
              "      <th>Date</th>\n",
              "      <th>Open</th>\n",
              "      <th>High</th>\n",
              "      <th>Low</th>\n",
              "      <th>Close</th>\n",
              "      <th>Volume</th>\n",
              "      <th>Dividends</th>\n",
              "      <th>Stock Splits</th>\n",
              "    </tr>\n",
              "  </thead>\n",
              "  <tbody>\n",
              "    <tr>\n",
              "      <th>0</th>\n",
              "      <td>1994-07-01</td>\n",
              "      <td>0.651400</td>\n",
              "      <td>0.665218</td>\n",
              "      <td>0.651400</td>\n",
              "      <td>0.665218</td>\n",
              "      <td>29958400</td>\n",
              "      <td>0.0</td>\n",
              "      <td>0.0</td>\n",
              "    </tr>\n",
              "    <tr>\n",
              "      <th>1</th>\n",
              "      <td>1994-07-05</td>\n",
              "      <td>0.686931</td>\n",
              "      <td>0.690879</td>\n",
              "      <td>0.681009</td>\n",
              "      <td>0.690879</td>\n",
              "      <td>10691200</td>\n",
              "      <td>0.0</td>\n",
              "      <td>0.0</td>\n",
              "    </tr>\n",
              "    <tr>\n",
              "      <th>2</th>\n",
              "      <td>1994-07-06</td>\n",
              "      <td>0.690879</td>\n",
              "      <td>0.714567</td>\n",
              "      <td>0.690879</td>\n",
              "      <td>0.714567</td>\n",
              "      <td>7408000</td>\n",
              "      <td>0.0</td>\n",
              "      <td>0.0</td>\n",
              "    </tr>\n",
              "    <tr>\n",
              "      <th>3</th>\n",
              "      <td>1994-07-07</td>\n",
              "      <td>0.712592</td>\n",
              "      <td>0.724436</td>\n",
              "      <td>0.710619</td>\n",
              "      <td>0.724436</td>\n",
              "      <td>9747200</td>\n",
              "      <td>0.0</td>\n",
              "      <td>0.0</td>\n",
              "    </tr>\n",
              "    <tr>\n",
              "      <th>4</th>\n",
              "      <td>1994-07-08</td>\n",
              "      <td>0.722462</td>\n",
              "      <td>0.730358</td>\n",
              "      <td>0.716540</td>\n",
              "      <td>0.728384</td>\n",
              "      <td>4467200</td>\n",
              "      <td>0.0</td>\n",
              "      <td>0.0</td>\n",
              "    </tr>\n",
              "  </tbody>\n",
              "</table>\n",
              "</div>"
            ],
            "text/plain": [
              "        Date      Open      High  ...    Volume  Dividends  Stock Splits\n",
              "0 1994-07-01  0.651400  0.665218  ...  29958400        0.0           0.0\n",
              "1 1994-07-05  0.686931  0.690879  ...  10691200        0.0           0.0\n",
              "2 1994-07-06  0.690879  0.714567  ...   7408000        0.0           0.0\n",
              "3 1994-07-07  0.712592  0.724436  ...   9747200        0.0           0.0\n",
              "4 1994-07-08  0.722462  0.730358  ...   4467200        0.0           0.0\n",
              "\n",
              "[5 rows x 8 columns]"
            ]
          },
          "metadata": {},
          "execution_count": 106
        }
      ]
    },
    {
      "cell_type": "code",
      "metadata": {
        "colab": {
          "base_uri": "https://localhost:8080/",
          "height": 1000
        },
        "id": "EIKevyloohrr",
        "outputId": "7ca9ea43-ed80-49dc-c67e-3ad340ed9e58"
      },
      "source": [
        "# Plot of \n",
        "company_share_price_data.plot(x=\"Date\", y=\"High\")\n",
        "company_share_price_data.plot(x=\"Date\", y=\"Low\")\n",
        "company_share_price_data.plot(x=\"Date\", y=\"Close\")\n",
        "# apple_share_price_data.plot(x=\"Date\", y=\"High\")\n",
        "company_share_price_data.plot(kind=\"line\", figsize=(12, 12), subplots=True)"
      ],
      "execution_count": 148,
      "outputs": [
        {
          "output_type": "execute_result",
          "data": {
            "text/plain": [
              "array([<matplotlib.axes._subplots.AxesSubplot object at 0x7f75a6e44c10>,\n",
              "       <matplotlib.axes._subplots.AxesSubplot object at 0x7f75a6f3d4d0>,\n",
              "       <matplotlib.axes._subplots.AxesSubplot object at 0x7f75a6e44c50>,\n",
              "       <matplotlib.axes._subplots.AxesSubplot object at 0x7f75a5573c10>,\n",
              "       <matplotlib.axes._subplots.AxesSubplot object at 0x7f75a55a6ad0>,\n",
              "       <matplotlib.axes._subplots.AxesSubplot object at 0x7f75a4abe3d0>,\n",
              "       <matplotlib.axes._subplots.AxesSubplot object at 0x7f75a540d810>,\n",
              "       <matplotlib.axes._subplots.AxesSubplot object at 0x7f75a5aa7b10>],\n",
              "      dtype=object)"
            ]
          },
          "metadata": {},
          "execution_count": 148
        },
        {
          "output_type": "display_data",
          "data": {
            "image/png": "[encoded data removed]",
            "text/plain": [
              "<Figure size 432x288 with 1 Axes>"
            ]
          },
          "metadata": {
            "needs_background": "light"
          }
        },
        {
          "output_type": "display_data",
          "data": {
            "image/png": "[encoded data removed]",
            "text/plain": [
              "<Figure size 432x288 with 1 Axes>"
            ]
          },
          "metadata": {
            "needs_background": "light"
          }
        },
        {
          "output_type": "display_data",
          "data": {
            "image/png": "[encoded data removed]",
            "text/plain": [
              "<Figure size 432x288 with 1 Axes>"
            ]
          },
          "metadata": {
            "needs_background": "light"
          }
        },
        {
          "output_type": "display_data",
          "data": {
            "image/png": "[encoded data removed]",
            "text/plain": [
              "<Figure size 864x864 with 8 Axes>"
            ]
          },
          "metadata": {
            "needs_background": "light"
          }
        }
      ]
    },
    {
      "cell_type": "code",
      "metadata": {
        "colab": {
          "base_uri": "https://localhost:8080/"
        },
        "id": "7fbtV-30pSnc",
        "outputId": "12de1599-ba9c-4b8d-bcd4-8d49d7a02611"
      },
      "source": [
        "# show divideds for companies in the \n",
        "company.dividends"
      ],
      "execution_count": 75,
      "outputs": [
        {
          "output_type": "execute_result",
          "data": {
            "text/plain": [
              "Date\n",
              "1995-03-30    0.036406\n",
              "1996-04-04    0.039563\n",
              "1997-03-27    0.042938\n",
              "1998-03-25    0.083188\n",
              "1999-03-18    0.129250\n",
              "2000-03-23    0.191750\n",
              "2001-03-22    0.255000\n",
              "2002-03-22    0.237000\n",
              "2003-03-28    0.304000\n",
              "2004-03-26    0.358000\n",
              "2005-04-08    0.431000\n",
              "2006-03-31    0.456000\n",
              "2007-05-04    0.565000\n",
              "2008-05-09    0.834000\n",
              "2009-04-24    0.546000\n",
              "2010-05-07    0.488000\n",
              "2011-05-04    0.571000\n",
              "2012-05-04    0.253000\n",
              "2014-06-19    0.511000\n",
              "2015-05-05    0.159000\n",
              "2016-06-16    0.299000\n",
              "2017-05-24    0.182000\n",
              "2018-05-31    0.236000\n",
              "2019-05-22    0.056000\n",
              "2019-07-29    0.056000\n",
              "Name: Dividends, dtype: float64"
            ]
          },
          "metadata": {},
          "execution_count": 75
        }
      ]
    },
    {
      "cell_type": "code",
      "metadata": {
        "colab": {
          "base_uri": "https://localhost:8080/",
          "height": 286
        },
        "id": "6VLBTKrCpVX8",
        "outputId": "9f9d7aef-3860-4a89-9d26-954a50f33f00"
      },
      "source": [
        "company.dividends.plot()"
      ],
      "execution_count": 76,
      "outputs": [
        {
          "output_type": "execute_result",
          "data": {
            "text/plain": [
              "<matplotlib.axes._subplots.AxesSubplot at 0x7f75a7e58190>"
            ]
          },
          "metadata": {},
          "execution_count": 76
        },
        {
          "output_type": "display_data",
          "data": {
            "image/png": "[encoded data removed]",
            "text/plain": [
              "<Figure size 432x288 with 1 Axes>"
            ]
          },
          "metadata": {
            "needs_background": "light"
          }
        }
      ]
    },
    {
      "cell_type": "code",
      "metadata": {
        "colab": {
          "base_uri": "https://localhost:8080/",
          "height": 467
        },
        "id": "NWI30xzAqZl0",
        "outputId": "ebc389d5-3d48-484b-85f4-0d5fe4434287"
      },
      "source": [
        "# Using the pandas_datareader library \n",
        "from pandas_datareader import data as pdr\n",
        "\n",
        "import yfinance as yf\n",
        "yf.pdr_override() # <== that's all it takes :-)\n",
        "\n",
        "# download dataframe\n",
        "data = pdr.get_data_yahoo(company_code, start=\"2017-01-01\", end=\"2017-04-30\")\n",
        "data"
      ],
      "execution_count": 147,
      "outputs": [
        {
          "output_type": "stream",
          "name": "stdout",
          "text": [
            "\r[*********************100%***********************]  1 of 1 completed\n"
          ]
        },
        {
          "output_type": "execute_result",
          "data": {
            "text/html": [
              "<div>\n",
              "<style scoped>\n",
              "    .dataframe tbody tr th:only-of-type {\n",
              "        vertical-align: middle;\n",
              "    }\n",
              "\n",
              "    .dataframe tbody tr th {\n",
              "        vertical-align: top;\n",
              "    }\n",
              "\n",
              "    .dataframe thead th {\n",
              "        text-align: right;\n",
              "    }\n",
              "</style>\n",
              "<table border=\"1\" class=\"dataframe\">\n",
              "  <thead>\n",
              "    <tr style=\"text-align: right;\">\n",
              "      <th></th>\n",
              "      <th>Open</th>\n",
              "      <th>High</th>\n",
              "      <th>Low</th>\n",
              "      <th>Close</th>\n",
              "      <th>Adj Close</th>\n",
              "      <th>Volume</th>\n",
              "    </tr>\n",
              "    <tr>\n",
              "      <th>Date</th>\n",
              "      <th></th>\n",
              "      <th></th>\n",
              "      <th></th>\n",
              "      <th></th>\n",
              "      <th></th>\n",
              "      <th></th>\n",
              "    </tr>\n",
              "  </thead>\n",
              "  <tbody>\n",
              "    <tr>\n",
              "      <th>2017-01-03</th>\n",
              "      <td>4.76</td>\n",
              "      <td>4.79</td>\n",
              "      <td>4.75</td>\n",
              "      <td>4.77</td>\n",
              "      <td>4.361909</td>\n",
              "      <td>7883000</td>\n",
              "    </tr>\n",
              "    <tr>\n",
              "      <th>2017-01-04</th>\n",
              "      <td>4.80</td>\n",
              "      <td>4.85</td>\n",
              "      <td>4.79</td>\n",
              "      <td>4.84</td>\n",
              "      <td>4.425921</td>\n",
              "      <td>10247100</td>\n",
              "    </tr>\n",
              "    <tr>\n",
              "      <th>2017-01-05</th>\n",
              "      <td>4.85</td>\n",
              "      <td>4.92</td>\n",
              "      <td>4.83</td>\n",
              "      <td>4.90</td>\n",
              "      <td>4.480787</td>\n",
              "      <td>9878400</td>\n",
              "    </tr>\n",
              "    <tr>\n",
              "      <th>2017-01-06</th>\n",
              "      <td>4.93</td>\n",
              "      <td>4.99</td>\n",
              "      <td>4.90</td>\n",
              "      <td>4.92</td>\n",
              "      <td>4.499077</td>\n",
              "      <td>18078800</td>\n",
              "    </tr>\n",
              "    <tr>\n",
              "      <th>2017-01-09</th>\n",
              "      <td>4.86</td>\n",
              "      <td>4.88</td>\n",
              "      <td>4.78</td>\n",
              "      <td>4.83</td>\n",
              "      <td>4.416776</td>\n",
              "      <td>14555100</td>\n",
              "    </tr>\n",
              "    <tr>\n",
              "      <th>...</th>\n",
              "      <td>...</td>\n",
              "      <td>...</td>\n",
              "      <td>...</td>\n",
              "      <td>...</td>\n",
              "      <td>...</td>\n",
              "      <td>...</td>\n",
              "    </tr>\n",
              "    <tr>\n",
              "      <th>2017-04-24</th>\n",
              "      <td>5.42</td>\n",
              "      <td>5.42</td>\n",
              "      <td>5.35</td>\n",
              "      <td>5.38</td>\n",
              "      <td>4.919722</td>\n",
              "      <td>27273200</td>\n",
              "    </tr>\n",
              "    <tr>\n",
              "      <th>2017-04-25</th>\n",
              "      <td>5.44</td>\n",
              "      <td>5.46</td>\n",
              "      <td>5.40</td>\n",
              "      <td>5.43</td>\n",
              "      <td>4.965444</td>\n",
              "      <td>23616500</td>\n",
              "    </tr>\n",
              "    <tr>\n",
              "      <th>2017-04-26</th>\n",
              "      <td>5.40</td>\n",
              "      <td>5.44</td>\n",
              "      <td>5.36</td>\n",
              "      <td>5.37</td>\n",
              "      <td>4.910578</td>\n",
              "      <td>23249400</td>\n",
              "    </tr>\n",
              "    <tr>\n",
              "      <th>2017-04-27</th>\n",
              "      <td>5.70</td>\n",
              "      <td>5.78</td>\n",
              "      <td>5.59</td>\n",
              "      <td>5.72</td>\n",
              "      <td>5.230633</td>\n",
              "      <td>62358500</td>\n",
              "    </tr>\n",
              "    <tr>\n",
              "      <th>2017-04-28</th>\n",
              "      <td>5.76</td>\n",
              "      <td>5.78</td>\n",
              "      <td>5.67</td>\n",
              "      <td>5.73</td>\n",
              "      <td>5.239778</td>\n",
              "      <td>30801500</td>\n",
              "    </tr>\n",
              "  </tbody>\n",
              "</table>\n",
              "<p>81 rows × 6 columns</p>\n",
              "</div>"
            ],
            "text/plain": [
              "            Open  High   Low  Close  Adj Close    Volume\n",
              "Date                                                    \n",
              "2017-01-03  4.76  4.79  4.75   4.77   4.361909   7883000\n",
              "2017-01-04  4.80  4.85  4.79   4.84   4.425921  10247100\n",
              "2017-01-05  4.85  4.92  4.83   4.90   4.480787   9878400\n",
              "2017-01-06  4.93  4.99  4.90   4.92   4.499077  18078800\n",
              "2017-01-09  4.86  4.88  4.78   4.83   4.416776  14555100\n",
              "...          ...   ...   ...    ...        ...       ...\n",
              "2017-04-24  5.42  5.42  5.35   5.38   4.919722  27273200\n",
              "2017-04-25  5.44  5.46  5.40   5.43   4.965444  23616500\n",
              "2017-04-26  5.40  5.44  5.36   5.37   4.910578  23249400\n",
              "2017-04-27  5.70  5.78  5.59   5.72   5.230633  62358500\n",
              "2017-04-28  5.76  5.78  5.67   5.73   5.239778  30801500\n",
              "\n",
              "[81 rows x 6 columns]"
            ]
          },
          "metadata": {},
          "execution_count": 147
        }
      ]
    }
  ]
}