{
  "nbformat": 4,
  "nbformat_minor": 0,
  "metadata": {
    "colab": {
      "name": "Yahoo_finance.ipynb",
      "provenance": [],
      "collapsed_sections": [],
      "authorship_tag": "ABX9TyM1J0xhV+gw7S+Kz8tkyr0Z",
      "include_colab_link": true
    },
    "kernelspec": {
      "name": "python3",
      "display_name": "Python 3"
    },
    "language_info": {
      "name": "python"
    }
  },
  "cells": [
    {
      "cell_type": "markdown",
      "metadata": {
        "id": "view-in-github",
        "colab_type": "text"
      },
      "source": [
        "<a href=\"https://colab.research.google.com/github/pauxru/Paul_Yahoo_Finance_Projects/blob/main/Yahoo_finance.ipynb\" target=\"_parent\"><img src=\"https://colab.research.google.com/assets/colab-badge.svg\" alt=\"Open In Colab\"/></a>"
      ]
    },
    {
      "cell_type": "markdown",
      "metadata": {
        "id": "40yNzhOar0YO"
      },
      "source": [
        "**Yahoo Finance data using Python yfinance library**\n",
        "\n",
        "Ever since Yahoo! finance decommissioned their historical data API, many programs that relied on it to stop working. That is where yfinance library comes in - to give access to the historical data, with the ability to visualize and analyze the data. This Notebook illustrates my ability to use the library and get crucial information from yahoo finance and then use it to manipulate and make sense of the data through various visualization capabilities of the library."
      ]
    },
    {
      "cell_type": "markdown",
      "metadata": {
        "id": "M0Ug2psLdm33"
      },
      "source": [
        "# First we need to install the library as it does not comre preinstalled into python"
      ]
    },
    {
      "cell_type": "code",
      "metadata": {
        "colab": {
          "base_uri": "https://localhost:8080/"
        },
        "id": "VNpCadTlt8r9",
        "outputId": "e72a605e-d016-4a91-9269-3d04570db32c"
      },
      "source": [
        "pip install yfinance"
      ],
      "execution_count": 16,
      "outputs": [
        {
          "output_type": "stream",
          "name": "stdout",
          "text": [
            "Requirement already satisfied: yfinance in /usr/local/lib/python3.7/dist-packages (0.1.63)\n",
            "Requirement already satisfied: pandas>=0.24 in /usr/local/lib/python3.7/dist-packages (from yfinance) (1.1.5)\n",
            "Requirement already satisfied: requests>=2.20 in /usr/local/lib/python3.7/dist-packages (from yfinance) (2.23.0)\n",
            "Requirement already satisfied: lxml>=4.5.1 in /usr/local/lib/python3.7/dist-packages (from yfinance) (4.6.3)\n",
            "Requirement already satisfied: multitasking>=0.0.7 in /usr/local/lib/python3.7/dist-packages (from yfinance) (0.0.9)\n",
            "Requirement already satisfied: numpy>=1.15 in /usr/local/lib/python3.7/dist-packages (from yfinance) (1.19.5)\n",
            "Requirement already satisfied: python-dateutil>=2.7.3 in /usr/local/lib/python3.7/dist-packages (from pandas>=0.24->yfinance) (2.8.2)\n",
            "Requirement already satisfied: pytz>=2017.2 in /usr/local/lib/python3.7/dist-packages (from pandas>=0.24->yfinance) (2018.9)\n",
            "Requirement already satisfied: six>=1.5 in /usr/local/lib/python3.7/dist-packages (from python-dateutil>=2.7.3->pandas>=0.24->yfinance) (1.15.0)\n",
            "Requirement already satisfied: chardet<4,>=3.0.2 in /usr/local/lib/python3.7/dist-packages (from requests>=2.20->yfinance) (3.0.4)\n",
            "Requirement already satisfied: certifi>=2017.4.17 in /usr/local/lib/python3.7/dist-packages (from requests>=2.20->yfinance) (2021.5.30)\n",
            "Requirement already satisfied: urllib3!=1.25.0,!=1.25.1,<1.26,>=1.21.1 in /usr/local/lib/python3.7/dist-packages (from requests>=2.20->yfinance) (1.24.3)\n",
            "Requirement already satisfied: idna<3,>=2.5 in /usr/local/lib/python3.7/dist-packages (from requests>=2.20->yfinance) (2.10)\n"
          ]
        }
      ]
    },
    {
      "cell_type": "markdown",
      "metadata": {
        "id": "hc8V23u4uOct"
      },
      "source": [
        "For this demosntration we shall need padas as a dependency, to help us in native data analysis using python"
      ]
    },
    {
      "cell_type": "code",
      "metadata": {
        "id": "sNCIKaSbnANY"
      },
      "source": [
        "# Import the library into our notebook for use using aliases\n",
        "import yfinance as yf\n",
        "import pandas as pd"
      ],
      "execution_count": 13,
      "outputs": []
    },
    {
      "cell_type": "markdown",
      "metadata": {
        "id": "KANSCUIzi5NZ"
      },
      "source": [
        ""
      ]
    },
    {
      "cell_type": "code",
      "metadata": {
        "id": "nsHp7lu5i4Mx"
      },
      "source": [
        ""
      ],
      "execution_count": null,
      "outputs": []
    },
    {
      "cell_type": "markdown",
      "metadata": {
        "id": "o75C_Kj0uqmx"
      },
      "source": [
        "Introducing the Ticker module, which allows you to access ticker data in a more Pythonic way. A ticker is the abbreviations that are used in a stock market to identify a company in lieu of the entire company name e.g. \"AAPL\"  for \"Apple Inc.\""
      ]
    },
    {
      "cell_type": "markdown",
      "metadata": {
        "id": "GHGhFdWBjCHY"
      },
      "source": [
        "# **Please Input the ticker code of the company you want to have a look at here.**\n",
        "You can see the tickers here (https://business.unl.edu/outreach/econ-ed/nebraska-council-on-economic-education/student-programs/stock-market-game/documents/Top%202000%20Valued%20Companies%20with%20Ticker%20Symbols.pdf)"
      ]
    },
    {
      "cell_type": "code",
      "metadata": {
        "id": "cVCLXJQjfBiA"
      },
      "source": [
        "company_code= \"NOK\" "
      ],
      "execution_count": 67,
      "outputs": []
    },
    {
      "cell_type": "code",
      "metadata": {
        "id": "0eHngl3VnI50",
        "colab": {
          "base_uri": "https://localhost:8080/"
        },
        "outputId": "42757079-7dec-4609-c7b5-cb57b8acbcf8"
      },
      "source": [
        "# the variable apple is assigned to \"AAPL\" ticker by the ticker module\n",
        "company = yf.Ticker(company_code)\n",
        "print(company.info['longName'])"
      ],
      "execution_count": 68,
      "outputs": [
        {
          "output_type": "stream",
          "name": "stdout",
          "text": [
            "Nokia Corporation\n"
          ]
        }
      ]
    },
    {
      "cell_type": "code",
      "metadata": {
        "colab": {
          "base_uri": "https://localhost:8080/"
        },
        "id": "LS08-7c3nkS8",
        "outputId": "d12b84e3-90f8-4120-9f89-2c0ab308c0f5"
      },
      "source": [
        "# The data is provided by the yfinance as a python dictionary type as shown\n",
        "company_info=company.info\n",
        "type(company_info)"
      ],
      "execution_count": 69,
      "outputs": [
        {
          "output_type": "execute_result",
          "data": {
            "text/plain": [
              "dict"
            ]
          },
          "metadata": {},
          "execution_count": 69
        }
      ]
    },
    {
      "cell_type": "code",
      "metadata": {
        "colab": {
          "base_uri": "https://localhost:8080/"
        },
        "id": "ewLWa-Cfnwnb",
        "outputId": "13002a73-57ec-4a1a-cfcc-833bb70f86b2"
      },
      "source": [
        "# The \"info\" attribute of the ticker module gives all the infromation \n",
        "# regarding the company requested. \n",
        "company_info\n",
        "# len(apple_info)"
      ],
      "execution_count": 70,
      "outputs": [
        {
          "output_type": "execute_result",
          "data": {
            "text/plain": [
              "{'52WeekChange': 0.4114833,\n",
              " 'SandP52WeekChange': 0.3047781,\n",
              " 'address1': 'Karakaari 7',\n",
              " 'algorithm': None,\n",
              " 'annualHoldingsTurnover': None,\n",
              " 'annualReportExpenseRatio': None,\n",
              " 'ask': 5.89,\n",
              " 'askSize': 27000,\n",
              " 'averageDailyVolume10Day': 13732800,\n",
              " 'averageVolume': 20745025,\n",
              " 'averageVolume10days': 13732800,\n",
              " 'beta': 0.589758,\n",
              " 'beta3Year': None,\n",
              " 'bid': 5.87,\n",
              " 'bidSize': 38500,\n",
              " 'bookValue': 2.531,\n",
              " 'category': None,\n",
              " 'circulatingSupply': None,\n",
              " 'city': 'Espoo',\n",
              " 'companyOfficers': [],\n",
              " 'country': 'Finland',\n",
              " 'currency': 'USD',\n",
              " 'currentPrice': 5.9,\n",
              " 'currentRatio': 1.579,\n",
              " 'dateShortInterest': 1632960000,\n",
              " 'dayHigh': 5.98,\n",
              " 'dayLow': 5.89,\n",
              " 'debtToEquity': 42.498,\n",
              " 'dividendRate': None,\n",
              " 'dividendYield': None,\n",
              " 'earningsGrowth': 3.819,\n",
              " 'earningsQuarterlyGrowth': 2.66,\n",
              " 'ebitda': 3257999872,\n",
              " 'ebitdaMargins': 0.14652,\n",
              " 'enterpriseToEbitda': 9.35,\n",
              " 'enterpriseToRevenue': 1.37,\n",
              " 'enterpriseValue': 30461347840,\n",
              " 'exDividendDate': 1564358400,\n",
              " 'exchange': 'NYQ',\n",
              " 'exchangeTimezoneName': 'America/New_York',\n",
              " 'exchangeTimezoneShortName': 'EDT',\n",
              " 'expireDate': None,\n",
              " 'fax': '358 1044 81002',\n",
              " 'fiftyDayAverage': 5.7179413,\n",
              " 'fiftyTwoWeekHigh': 9.79,\n",
              " 'fiftyTwoWeekLow': 3.21,\n",
              " 'financialCurrency': 'EUR',\n",
              " 'fiveYearAverageReturn': None,\n",
              " 'fiveYearAvgDividendYield': None,\n",
              " 'floatShares': 4643113326,\n",
              " 'forwardEps': 0.39,\n",
              " 'forwardPE': 15.128206,\n",
              " 'freeCashflow': 2659875072,\n",
              " 'fromCurrency': None,\n",
              " 'fullTimeEmployees': 92039,\n",
              " 'fundFamily': None,\n",
              " 'fundInceptionDate': None,\n",
              " 'gmtOffSetMilliseconds': '-14400000',\n",
              " 'grossMargins': 0.40344003,\n",
              " 'grossProfits': 8586000000,\n",
              " 'heldPercentInsiders': 0,\n",
              " 'heldPercentInstitutions': 0.08322,\n",
              " 'impliedSharesOutstanding': None,\n",
              " 'industry': 'Communication Equipment',\n",
              " 'isEsgPopulated': False,\n",
              " 'lastCapGain': None,\n",
              " 'lastDividendDate': 1564358400,\n",
              " 'lastDividendValue': 0.056,\n",
              " 'lastFiscalYearEnd': 1609372800,\n",
              " 'lastMarket': None,\n",
              " 'lastSplitDate': 955411200,\n",
              " 'lastSplitFactor': '4:1',\n",
              " 'legalType': None,\n",
              " 'logo_url': 'https://logo.clearbit.com/nokia.com',\n",
              " 'longBusinessSummary': 'Nokia Corporation provides mobile and fixed network solutions worldwide. The company operates through four segments: Mobile Networks, Network Infrastructure, Cloud and Network Services, and Nokia Technologies. It focuses on mobile radio including macro radio, small cells, and cloud native radio solutions for communications service providers and enterprises; and provides network planning and optimization, network implementation, and systems integration, as well as company-wide managed services. The company also offers fixed networking solutions, such as copper and fiber access products, solutions, and services. In addition, it provides network infrastructure and professional services for mobile networks; and managed services for the fixed, mobile, Internet protocol (IP), and optical domains. Further, the company offers network planning, implementation, operation, and maintenance services. Additionally, it provides IP/optical networking solutions, including IP routing and optical transport systems, software, and services; software solutions, such as customer experience management, network operations and management, communications and collaborations, and policy and charging, as well as cloud, IoT, security, and analytics platforms; and submarine networks and radiofrequency systems. Nokia Corporation was founded in 1865 and is headquartered in Espoo, Finland.',\n",
              " 'longName': 'Nokia Corporation',\n",
              " 'market': 'us_market',\n",
              " 'marketCap': 33731422208,\n",
              " 'maxAge': 1,\n",
              " 'maxSupply': None,\n",
              " 'messageBoardId': 'finmb_205573',\n",
              " 'morningStarOverallRating': None,\n",
              " 'morningStarRiskRating': None,\n",
              " 'mostRecentQuarter': 1625011200,\n",
              " 'navPrice': None,\n",
              " 'netIncomeToCommon': -1884000000,\n",
              " 'nextFiscalYearEnd': 1672444800,\n",
              " 'numberOfAnalystOpinions': 7,\n",
              " 'open': 5.97,\n",
              " 'openInterest': None,\n",
              " 'operatingCashflow': 2702000128,\n",
              " 'operatingMargins': 0.10699,\n",
              " 'payoutRatio': 0,\n",
              " 'pegRatio': 0.92,\n",
              " 'phone': '358 1044 88000',\n",
              " 'previousClose': 5.95,\n",
              " 'priceHint': 2,\n",
              " 'priceToBook': 2.3310945,\n",
              " 'priceToSalesTrailing12Months': 1.5169735,\n",
              " 'profitMargins': -0.08522,\n",
              " 'quickRatio': 1.295,\n",
              " 'quoteType': 'EQUITY',\n",
              " 'recommendationKey': 'buy',\n",
              " 'recommendationMean': 2.4,\n",
              " 'regularMarketDayHigh': 5.98,\n",
              " 'regularMarketDayLow': 5.89,\n",
              " 'regularMarketOpen': 5.97,\n",
              " 'regularMarketPreviousClose': 5.95,\n",
              " 'regularMarketPrice': 5.9,\n",
              " 'regularMarketVolume': 12276979,\n",
              " 'returnOnAssets': 0.03901,\n",
              " 'returnOnEquity': -0.12638,\n",
              " 'revenueGrowth': 0.043,\n",
              " 'revenuePerShare': 3.956,\n",
              " 'revenueQuarterlyGrowth': None,\n",
              " 'sector': 'Technology',\n",
              " 'sharesOutstanding': 5629329920,\n",
              " 'sharesPercentSharesOut': 0.0056,\n",
              " 'sharesShort': 31442774,\n",
              " 'sharesShortPreviousMonthDate': 1630368000,\n",
              " 'sharesShortPriorMonth': 35224476,\n",
              " 'shortName': 'Nokia Corporation Sponsored',\n",
              " 'shortPercentOfFloat': None,\n",
              " 'shortRatio': 1.65,\n",
              " 'startDate': None,\n",
              " 'strikePrice': None,\n",
              " 'symbol': 'NOK',\n",
              " 'targetHighPrice': 8.1,\n",
              " 'targetLowPrice': 6.01,\n",
              " 'targetMeanPrice': 7.14,\n",
              " 'targetMedianPrice': 7,\n",
              " 'threeYearAverageReturn': None,\n",
              " 'toCurrency': None,\n",
              " 'totalAssets': None,\n",
              " 'totalCash': 8933999616,\n",
              " 'totalCashPerShare': 1.587,\n",
              " 'totalDebt': 6093000192,\n",
              " 'totalRevenue': 22236000256,\n",
              " 'tradeable': False,\n",
              " 'trailingAnnualDividendRate': 0.221,\n",
              " 'trailingAnnualDividendYield': 0.037142858,\n",
              " 'trailingEps': -0.391,\n",
              " 'twoHundredDayAverage': 5.3527536,\n",
              " 'volume': 12276979,\n",
              " 'volume24Hr': None,\n",
              " 'volumeAllCurrencies': None,\n",
              " 'website': 'http://www.nokia.com',\n",
              " 'yield': None,\n",
              " 'ytdReturn': None,\n",
              " 'zip': '02610'}"
            ]
          },
          "metadata": {},
          "execution_count": 70
        }
      ]
    },
    {
      "cell_type": "code",
      "metadata": {
        "colab": {
          "base_uri": "https://localhost:8080/"
        },
        "id": "XoIYVimWn5Z7",
        "outputId": "fdb8e1e3-40e7-47de-a6e9-df1eecb1f7e0"
      },
      "source": [
        "# accessing the details in the dictionary about the company\n",
        "company_info['country']\n",
        "company_info['forwardPE']\n"
      ],
      "execution_count": 71,
      "outputs": [
        {
          "output_type": "execute_result",
          "data": {
            "text/plain": [
              "15.128206"
            ]
          },
          "metadata": {},
          "execution_count": 71
        }
      ]
    },
    {
      "cell_type": "code",
      "metadata": {
        "colab": {
          "base_uri": "https://localhost:8080/",
          "height": 450
        },
        "id": "uyBofldFn_BE",
        "outputId": "304050ed-0cb0-48e6-8ca3-19c2b2e24648"
      },
      "source": [
        "# accessing the historical data for a company\n",
        "company_share_price_data = company.history(period=\"max\")\n",
        "company_share_price_data"
      ],
      "execution_count": 72,
      "outputs": [
        {
          "output_type": "execute_result",
          "data": {
            "text/html": [
              "<div>\n",
              "<style scoped>\n",
              "    .dataframe tbody tr th:only-of-type {\n",
              "        vertical-align: middle;\n",
              "    }\n",
              "\n",
              "    .dataframe tbody tr th {\n",
              "        vertical-align: top;\n",
              "    }\n",
              "\n",
              "    .dataframe thead th {\n",
              "        text-align: right;\n",
              "    }\n",
              "</style>\n",
              "<table border=\"1\" class=\"dataframe\">\n",
              "  <thead>\n",
              "    <tr style=\"text-align: right;\">\n",
              "      <th></th>\n",
              "      <th>Open</th>\n",
              "      <th>High</th>\n",
              "      <th>Low</th>\n",
              "      <th>Close</th>\n",
              "      <th>Volume</th>\n",
              "      <th>Dividends</th>\n",
              "      <th>Stock Splits</th>\n",
              "    </tr>\n",
              "    <tr>\n",
              "      <th>Date</th>\n",
              "      <th></th>\n",
              "      <th></th>\n",
              "      <th></th>\n",
              "      <th></th>\n",
              "      <th></th>\n",
              "      <th></th>\n",
              "      <th></th>\n",
              "    </tr>\n",
              "  </thead>\n",
              "  <tbody>\n",
              "    <tr>\n",
              "      <th>1994-07-01</th>\n",
              "      <td>0.651401</td>\n",
              "      <td>0.665218</td>\n",
              "      <td>0.651401</td>\n",
              "      <td>0.665218</td>\n",
              "      <td>29958400</td>\n",
              "      <td>0.0</td>\n",
              "      <td>0.0</td>\n",
              "    </tr>\n",
              "    <tr>\n",
              "      <th>1994-07-05</th>\n",
              "      <td>0.686931</td>\n",
              "      <td>0.690879</td>\n",
              "      <td>0.681009</td>\n",
              "      <td>0.690879</td>\n",
              "      <td>10691200</td>\n",
              "      <td>0.0</td>\n",
              "      <td>0.0</td>\n",
              "    </tr>\n",
              "    <tr>\n",
              "      <th>1994-07-06</th>\n",
              "      <td>0.690879</td>\n",
              "      <td>0.714566</td>\n",
              "      <td>0.690879</td>\n",
              "      <td>0.714566</td>\n",
              "      <td>7408000</td>\n",
              "      <td>0.0</td>\n",
              "      <td>0.0</td>\n",
              "    </tr>\n",
              "    <tr>\n",
              "      <th>1994-07-07</th>\n",
              "      <td>0.712592</td>\n",
              "      <td>0.724436</td>\n",
              "      <td>0.710618</td>\n",
              "      <td>0.724436</td>\n",
              "      <td>9747200</td>\n",
              "      <td>0.0</td>\n",
              "      <td>0.0</td>\n",
              "    </tr>\n",
              "    <tr>\n",
              "      <th>1994-07-08</th>\n",
              "      <td>0.722462</td>\n",
              "      <td>0.730358</td>\n",
              "      <td>0.716540</td>\n",
              "      <td>0.728384</td>\n",
              "      <td>4467200</td>\n",
              "      <td>0.0</td>\n",
              "      <td>0.0</td>\n",
              "    </tr>\n",
              "    <tr>\n",
              "      <th>...</th>\n",
              "      <td>...</td>\n",
              "      <td>...</td>\n",
              "      <td>...</td>\n",
              "      <td>...</td>\n",
              "      <td>...</td>\n",
              "      <td>...</td>\n",
              "      <td>...</td>\n",
              "    </tr>\n",
              "    <tr>\n",
              "      <th>2021-10-11</th>\n",
              "      <td>5.780000</td>\n",
              "      <td>5.850000</td>\n",
              "      <td>5.760000</td>\n",
              "      <td>5.800000</td>\n",
              "      <td>12405100</td>\n",
              "      <td>0.0</td>\n",
              "      <td>0.0</td>\n",
              "    </tr>\n",
              "    <tr>\n",
              "      <th>2021-10-12</th>\n",
              "      <td>5.830000</td>\n",
              "      <td>5.850000</td>\n",
              "      <td>5.780000</td>\n",
              "      <td>5.800000</td>\n",
              "      <td>17008300</td>\n",
              "      <td>0.0</td>\n",
              "      <td>0.0</td>\n",
              "    </tr>\n",
              "    <tr>\n",
              "      <th>2021-10-13</th>\n",
              "      <td>5.850000</td>\n",
              "      <td>5.890000</td>\n",
              "      <td>5.820000</td>\n",
              "      <td>5.840000</td>\n",
              "      <td>10745600</td>\n",
              "      <td>0.0</td>\n",
              "      <td>0.0</td>\n",
              "    </tr>\n",
              "    <tr>\n",
              "      <th>2021-10-14</th>\n",
              "      <td>5.930000</td>\n",
              "      <td>5.970000</td>\n",
              "      <td>5.910000</td>\n",
              "      <td>5.950000</td>\n",
              "      <td>13816600</td>\n",
              "      <td>0.0</td>\n",
              "      <td>0.0</td>\n",
              "    </tr>\n",
              "    <tr>\n",
              "      <th>2021-10-15</th>\n",
              "      <td>5.970000</td>\n",
              "      <td>5.980000</td>\n",
              "      <td>5.890000</td>\n",
              "      <td>5.900000</td>\n",
              "      <td>12331700</td>\n",
              "      <td>0.0</td>\n",
              "      <td>0.0</td>\n",
              "    </tr>\n",
              "  </tbody>\n",
              "</table>\n",
              "<p>6873 rows × 7 columns</p>\n",
              "</div>"
            ],
            "text/plain": [
              "                Open      High       Low  ...    Volume  Dividends  Stock Splits\n",
              "Date                                      ...                                   \n",
              "1994-07-01  0.651401  0.665218  0.651401  ...  29958400        0.0           0.0\n",
              "1994-07-05  0.686931  0.690879  0.681009  ...  10691200        0.0           0.0\n",
              "1994-07-06  0.690879  0.714566  0.690879  ...   7408000        0.0           0.0\n",
              "1994-07-07  0.712592  0.724436  0.710618  ...   9747200        0.0           0.0\n",
              "1994-07-08  0.722462  0.730358  0.716540  ...   4467200        0.0           0.0\n",
              "...              ...       ...       ...  ...       ...        ...           ...\n",
              "2021-10-11  5.780000  5.850000  5.760000  ...  12405100        0.0           0.0\n",
              "2021-10-12  5.830000  5.850000  5.780000  ...  17008300        0.0           0.0\n",
              "2021-10-13  5.850000  5.890000  5.820000  ...  10745600        0.0           0.0\n",
              "2021-10-14  5.930000  5.970000  5.910000  ...  13816600        0.0           0.0\n",
              "2021-10-15  5.970000  5.980000  5.890000  ...  12331700        0.0           0.0\n",
              "\n",
              "[6873 rows x 7 columns]"
            ]
          },
          "metadata": {},
          "execution_count": 72
        }
      ]
    },
    {
      "cell_type": "code",
      "metadata": {
        "colab": {
          "base_uri": "https://localhost:8080/",
          "height": 204
        },
        "id": "45DBI4YVoYWM",
        "outputId": "ac84c85f-5e82-48ef-e66c-5e77c55ae416"
      },
      "source": [
        "# reset the index of the data and display the head\n",
        "company_share_price_data.reset_index(inplace=True)\n",
        "company_share_price_data.head()"
      ],
      "execution_count": 73,
      "outputs": [
        {
          "output_type": "execute_result",
          "data": {
            "text/html": [
              "<div>\n",
              "<style scoped>\n",
              "    .dataframe tbody tr th:only-of-type {\n",
              "        vertical-align: middle;\n",
              "    }\n",
              "\n",
              "    .dataframe tbody tr th {\n",
              "        vertical-align: top;\n",
              "    }\n",
              "\n",
              "    .dataframe thead th {\n",
              "        text-align: right;\n",
              "    }\n",
              "</style>\n",
              "<table border=\"1\" class=\"dataframe\">\n",
              "  <thead>\n",
              "    <tr style=\"text-align: right;\">\n",
              "      <th></th>\n",
              "      <th>Date</th>\n",
              "      <th>Open</th>\n",
              "      <th>High</th>\n",
              "      <th>Low</th>\n",
              "      <th>Close</th>\n",
              "      <th>Volume</th>\n",
              "      <th>Dividends</th>\n",
              "      <th>Stock Splits</th>\n",
              "    </tr>\n",
              "  </thead>\n",
              "  <tbody>\n",
              "    <tr>\n",
              "      <th>0</th>\n",
              "      <td>1994-07-01</td>\n",
              "      <td>0.651401</td>\n",
              "      <td>0.665218</td>\n",
              "      <td>0.651401</td>\n",
              "      <td>0.665218</td>\n",
              "      <td>29958400</td>\n",
              "      <td>0.0</td>\n",
              "      <td>0.0</td>\n",
              "    </tr>\n",
              "    <tr>\n",
              "      <th>1</th>\n",
              "      <td>1994-07-05</td>\n",
              "      <td>0.686931</td>\n",
              "      <td>0.690879</td>\n",
              "      <td>0.681009</td>\n",
              "      <td>0.690879</td>\n",
              "      <td>10691200</td>\n",
              "      <td>0.0</td>\n",
              "      <td>0.0</td>\n",
              "    </tr>\n",
              "    <tr>\n",
              "      <th>2</th>\n",
              "      <td>1994-07-06</td>\n",
              "      <td>0.690879</td>\n",
              "      <td>0.714566</td>\n",
              "      <td>0.690879</td>\n",
              "      <td>0.714566</td>\n",
              "      <td>7408000</td>\n",
              "      <td>0.0</td>\n",
              "      <td>0.0</td>\n",
              "    </tr>\n",
              "    <tr>\n",
              "      <th>3</th>\n",
              "      <td>1994-07-07</td>\n",
              "      <td>0.712592</td>\n",
              "      <td>0.724436</td>\n",
              "      <td>0.710618</td>\n",
              "      <td>0.724436</td>\n",
              "      <td>9747200</td>\n",
              "      <td>0.0</td>\n",
              "      <td>0.0</td>\n",
              "    </tr>\n",
              "    <tr>\n",
              "      <th>4</th>\n",
              "      <td>1994-07-08</td>\n",
              "      <td>0.722462</td>\n",
              "      <td>0.730358</td>\n",
              "      <td>0.716540</td>\n",
              "      <td>0.728384</td>\n",
              "      <td>4467200</td>\n",
              "      <td>0.0</td>\n",
              "      <td>0.0</td>\n",
              "    </tr>\n",
              "  </tbody>\n",
              "</table>\n",
              "</div>"
            ],
            "text/plain": [
              "        Date      Open      High  ...    Volume  Dividends  Stock Splits\n",
              "0 1994-07-01  0.651401  0.665218  ...  29958400        0.0           0.0\n",
              "1 1994-07-05  0.686931  0.690879  ...  10691200        0.0           0.0\n",
              "2 1994-07-06  0.690879  0.714566  ...   7408000        0.0           0.0\n",
              "3 1994-07-07  0.712592  0.724436  ...   9747200        0.0           0.0\n",
              "4 1994-07-08  0.722462  0.730358  ...   4467200        0.0           0.0\n",
              "\n",
              "[5 rows x 8 columns]"
            ]
          },
          "metadata": {},
          "execution_count": 73
        }
      ]
    },
    {
      "cell_type": "code",
      "metadata": {
        "colab": {
          "base_uri": "https://localhost:8080/",
          "height": 794
        },
        "id": "EIKevyloohrr",
        "outputId": "ac7984ef-7697-4e6d-8e15-bf14a148111d"
      },
      "source": [
        "# Plot of \n",
        "company_share_price_data.plot(x=\"Date\", y=\"High\")\n",
        "company_share_price_data.plot(x=\"Date\", y=\"Low\")\n",
        "company_share_price_data.plot(x=\"Date\", y=\"Close\")\n",
        "# apple_share_price_data.plot(x=\"Date\", y=\"High\")"
      ],
      "execution_count": 74,
      "outputs": [
        {
          "output_type": "execute_result",
          "data": {
            "text/plain": [
              "<matplotlib.axes._subplots.AxesSubplot at 0x7f75a7f45fd0>"
            ]
          },
          "metadata": {},
          "execution_count": 74
        },
        {
          "output_type": "display_data",
          "data": {
            "image/png": "[encoded data removed]",
            "text/plain": [
              "<Figure size 432x288 with 1 Axes>"
            ]
          },
          "metadata": {
            "needs_background": "light"
          }
        },
        {
          "output_type": "display_data",
          "data": {
            "image/png": "[encoded data removed]",
            "text/plain": [
              "<Figure size 432x288 with 1 Axes>"
            ]
          },
          "metadata": {
            "needs_background": "light"
          }
        },
        {
          "output_type": "display_data",
          "data": {
            "image/png": "[encoded data removed]",
            "text/plain": [
              "<Figure size 432x288 with 1 Axes>"
            ]
          },
          "metadata": {
            "needs_background": "light"
          }
        }
      ]
    },
    {
      "cell_type": "code",
      "metadata": {
        "colab": {
          "base_uri": "https://localhost:8080/"
        },
        "id": "7fbtV-30pSnc",
        "outputId": "12de1599-ba9c-4b8d-bcd4-8d49d7a02611"
      },
      "source": [
        "company.dividends"
      ],
      "execution_count": 75,
      "outputs": [
        {
          "output_type": "execute_result",
          "data": {
            "text/plain": [
              "Date\n",
              "1995-03-30    0.036406\n",
              "1996-04-04    0.039563\n",
              "1997-03-27    0.042938\n",
              "1998-03-25    0.083188\n",
              "1999-03-18    0.129250\n",
              "2000-03-23    0.191750\n",
              "2001-03-22    0.255000\n",
              "2002-03-22    0.237000\n",
              "2003-03-28    0.304000\n",
              "2004-03-26    0.358000\n",
              "2005-04-08    0.431000\n",
              "2006-03-31    0.456000\n",
              "2007-05-04    0.565000\n",
              "2008-05-09    0.834000\n",
              "2009-04-24    0.546000\n",
              "2010-05-07    0.488000\n",
              "2011-05-04    0.571000\n",
              "2012-05-04    0.253000\n",
              "2014-06-19    0.511000\n",
              "2015-05-05    0.159000\n",
              "2016-06-16    0.299000\n",
              "2017-05-24    0.182000\n",
              "2018-05-31    0.236000\n",
              "2019-05-22    0.056000\n",
              "2019-07-29    0.056000\n",
              "Name: Dividends, dtype: float64"
            ]
          },
          "metadata": {},
          "execution_count": 75
        }
      ]
    },
    {
      "cell_type": "code",
      "metadata": {
        "colab": {
          "base_uri": "https://localhost:8080/",
          "height": 286
        },
        "id": "6VLBTKrCpVX8",
        "outputId": "9f9d7aef-3860-4a89-9d26-954a50f33f00"
      },
      "source": [
        "company.dividends.plot()"
      ],
      "execution_count": 76,
      "outputs": [
        {
          "output_type": "execute_result",
          "data": {
            "text/plain": [
              "<matplotlib.axes._subplots.AxesSubplot at 0x7f75a7e58190>"
            ]
          },
          "metadata": {},
          "execution_count": 76
        },
        {
          "output_type": "display_data",
          "data": {
            "image/png": "[encoded data removed]",
            "text/plain": [
              "<Figure size 432x288 with 1 Axes>"
            ]
          },
          "metadata": {
            "needs_background": "light"
          }
        }
      ]
    }
  ]
}